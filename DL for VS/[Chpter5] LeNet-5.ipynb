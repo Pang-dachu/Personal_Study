{
 "cells": [
  {
   "cell_type": "code",
   "execution_count": 4,
   "metadata": {},
   "outputs": [],
   "source": [
    "from keras.models import Sequential\n",
    "from keras.layers import Conv2D, AveragePooling2D, Flatten, Dense"
   ]
  },
  {
   "cell_type": "code",
   "execution_count": 48,
   "metadata": {},
   "outputs": [],
   "source": [
    "model = Sequential(name=\"Lenet-5\")\n",
    "\n",
    "model.add(Conv2D( 6, 5, strides=1, activation=\"tanh\", input_shape=(28,28,1), padding=\"same\", name=\"Conv_1\"))\n",
    "model.add(AveragePooling2D(2, strides=2, padding=\"valid\", name=\"avg_pool_1\"))\n",
    "\n",
    "model.add(Conv2D( 16, 5, strides=1, activation=\"tanh\", padding=\"valid\", name=\"Conv_2\"))\n",
    "model.add(AveragePooling2D(2, strides=2, padding=\"valid\", name=\"avg_pool_2\"))\n",
    "\n",
    "model.add(Conv2D( 120, 5, strides=1, activation=\"tanh\", padding=\"valid\", name=\"Conv_3\"))\n",
    "\n",
    "model.add(Flatten(name=\"Flatten\"))\n",
    "\n",
    "model.add(Dense(84, activation=\"tanh\", name=\"Dense_01\"))\n",
    "model.add(Dense(10, activation=\"softmax\", name=\"Dense_02\"))"
   ]
  },
  {
   "cell_type": "code",
   "execution_count": 49,
   "metadata": {},
   "outputs": [
    {
     "name": "stdout",
     "output_type": "stream",
     "text": [
      "Model: \"Lenet-5\"\n",
      "_________________________________________________________________\n",
      " Layer (type)                Output Shape              Param #   \n",
      "=================================================================\n",
      " Conv_1 (Conv2D)             (None, 28, 28, 6)         156       \n",
      "                                                                 \n",
      " avg_pool_1 (AveragePooling2  (None, 14, 14, 6)        0         \n",
      " D)                                                              \n",
      "                                                                 \n",
      " Conv_2 (Conv2D)             (None, 10, 10, 16)        2416      \n",
      "                                                                 \n",
      " avg_pool_2 (AveragePooling2  (None, 5, 5, 16)         0         \n",
      " D)                                                              \n",
      "                                                                 \n",
      " Conv_3 (Conv2D)             (None, 1, 1, 120)         48120     \n",
      "                                                                 \n",
      " Flatten (Flatten)           (None, 120)               0         \n",
      "                                                                 \n",
      " Dense_01 (Dense)            (None, 84)                10164     \n",
      "                                                                 \n",
      " Dense_02 (Dense)            (None, 10)                850       \n",
      "                                                                 \n",
      "=================================================================\n",
      "Total params: 61,706\n",
      "Trainable params: 61,706\n",
      "Non-trainable params: 0\n",
      "_________________________________________________________________\n"
     ]
    }
   ],
   "source": [
    "model.summary()"
   ]
  },
  {
   "cell_type": "code",
   "execution_count": 15,
   "metadata": {},
   "outputs": [],
   "source": [
    "# 학습률 감쇠\n",
    "def lr_schedule(epoch) :\n",
    "    if epoch <= 2:\n",
    "        lr = 5e-4\n",
    "    elif epoch > 2 and epoch <= 5 :\n",
    "        lr = 2e-4\n",
    "    elif epoch > 5 and epoch <= 9 :\n",
    "        lr = 5e-5\n",
    "    else : \n",
    "        lr = 1\n",
    "    \n",
    "    return lr"
   ]
  },
  {
   "cell_type": "code",
   "execution_count": 54,
   "metadata": {},
   "outputs": [],
   "source": [
    "from keras.callbacks import ModelCheckpoint, LearningRateScheduler\n",
    "\n",
    "lr_reducer = LearningRateScheduler(lr_schedule)\n",
    "\n",
    "checkpoint = ModelCheckpoint(filepath = \"path_to_save_file/file.hdf5\",\n",
    "                             monitor = \"val_acc\", verbose= 1,\n",
    "                             save_best_only = True)\n",
    "\n",
    "callbacks = [checkpoint, lr_reducer]  \n",
    "\n",
    "model.compile(loss=\"categorical_crossentropy\", optimizer=\"sgd\", \n",
    "              metrics=[\"accuracy\"])"
   ]
  },
  {
   "cell_type": "code",
   "execution_count": 51,
   "metadata": {},
   "outputs": [],
   "source": [
    "from tensorflow.keras.datasets import mnist\n",
    "\n",
    "(x_train, y_train), (x_test, y_test) = mnist.load_data()"
   ]
  },
  {
   "cell_type": "code",
   "execution_count": 52,
   "metadata": {},
   "outputs": [
    {
     "data": {
      "text/plain": [
       "((60000, 28, 28), (60000,), (10000, 28, 28), (10000,))"
      ]
     },
     "execution_count": 52,
     "metadata": {},
     "output_type": "execute_result"
    }
   ],
   "source": [
    "x_train.shape, y_train.shape, x_test.shape, y_test.shape"
   ]
  },
  {
   "cell_type": "code",
   "execution_count": 55,
   "metadata": {},
   "outputs": [
    {
     "name": "stdout",
     "output_type": "stream",
     "text": [
      "Epoch 1/20\n"
     ]
    },
    {
     "ename": "ValueError",
     "evalue": "in user code:\n\n    File \"c:\\Users\\fox39\\anaconda3\\envs\\pangdachu\\lib\\site-packages\\keras\\engine\\training.py\", line 1284, in train_function  *\n        return step_function(self, iterator)\n    File \"c:\\Users\\fox39\\anaconda3\\envs\\pangdachu\\lib\\site-packages\\keras\\engine\\training.py\", line 1268, in step_function  **\n        outputs = model.distribute_strategy.run(run_step, args=(data,))\n    File \"c:\\Users\\fox39\\anaconda3\\envs\\pangdachu\\lib\\site-packages\\keras\\engine\\training.py\", line 1249, in run_step  **\n        outputs = model.train_step(data)\n    File \"c:\\Users\\fox39\\anaconda3\\envs\\pangdachu\\lib\\site-packages\\keras\\engine\\training.py\", line 1051, in train_step\n        loss = self.compute_loss(x, y, y_pred, sample_weight)\n    File \"c:\\Users\\fox39\\anaconda3\\envs\\pangdachu\\lib\\site-packages\\keras\\engine\\training.py\", line 1109, in compute_loss\n        return self.compiled_loss(\n    File \"c:\\Users\\fox39\\anaconda3\\envs\\pangdachu\\lib\\site-packages\\keras\\engine\\compile_utils.py\", line 240, in __call__\n        self.build(y_pred)\n    File \"c:\\Users\\fox39\\anaconda3\\envs\\pangdachu\\lib\\site-packages\\keras\\engine\\compile_utils.py\", line 182, in build\n        self._losses = tf.nest.map_structure(\n    File \"c:\\Users\\fox39\\anaconda3\\envs\\pangdachu\\lib\\site-packages\\keras\\engine\\compile_utils.py\", line 353, in _get_loss_object\n        loss = losses_mod.get(loss)\n    File \"c:\\Users\\fox39\\anaconda3\\envs\\pangdachu\\lib\\site-packages\\keras\\losses.py\", line 2653, in get\n        return deserialize(identifier, use_legacy_format=use_legacy_format)\n    File \"c:\\Users\\fox39\\anaconda3\\envs\\pangdachu\\lib\\site-packages\\keras\\losses.py\", line 2600, in deserialize\n        return legacy_serialization.deserialize_keras_object(\n    File \"c:\\Users\\fox39\\anaconda3\\envs\\pangdachu\\lib\\site-packages\\keras\\saving\\legacy\\serialization.py\", line 543, in deserialize_keras_object\n        raise ValueError(\n\n    ValueError: Unknown loss function: 'sparese_categorical_crossentropy'. Please ensure you are using a `keras.utils.custom_object_scope` and that this object is included in the scope. See https://www.tensorflow.org/guide/keras/save_and_serialize#registering_the_custom_object for details.\n",
     "output_type": "error",
     "traceback": [
      "\u001b[1;31m---------------------------------------------------------------------------\u001b[0m",
      "\u001b[1;31mValueError\u001b[0m                                Traceback (most recent call last)",
      "Cell \u001b[1;32mIn[55], line 1\u001b[0m\n\u001b[1;32m----> 1\u001b[0m model\u001b[39m.\u001b[39;49mfit( x_train, y_train, batch_size\u001b[39m=\u001b[39;49m\u001b[39m32\u001b[39;49m ,\n\u001b[0;32m      2\u001b[0m            validation_data \u001b[39m=\u001b[39;49m (x_test, y_test), \n\u001b[0;32m      3\u001b[0m            epochs \u001b[39m=\u001b[39;49m \u001b[39m20\u001b[39;49m, callbacks\u001b[39m=\u001b[39;49mcallbacks, verbose\u001b[39m=\u001b[39;49m\u001b[39m2\u001b[39;49m, shuffle\u001b[39m=\u001b[39;49m\u001b[39mTrue\u001b[39;49;00m)\n",
      "File \u001b[1;32mc:\\Users\\fox39\\anaconda3\\envs\\pangdachu\\lib\\site-packages\\keras\\utils\\traceback_utils.py:70\u001b[0m, in \u001b[0;36mfilter_traceback.<locals>.error_handler\u001b[1;34m(*args, **kwargs)\u001b[0m\n\u001b[0;32m     67\u001b[0m     filtered_tb \u001b[39m=\u001b[39m _process_traceback_frames(e\u001b[39m.\u001b[39m__traceback__)\n\u001b[0;32m     68\u001b[0m     \u001b[39m# To get the full stack trace, call:\u001b[39;00m\n\u001b[0;32m     69\u001b[0m     \u001b[39m# `tf.debugging.disable_traceback_filtering()`\u001b[39;00m\n\u001b[1;32m---> 70\u001b[0m     \u001b[39mraise\u001b[39;00m e\u001b[39m.\u001b[39mwith_traceback(filtered_tb) \u001b[39mfrom\u001b[39;00m \u001b[39mNone\u001b[39m\n\u001b[0;32m     71\u001b[0m \u001b[39mfinally\u001b[39;00m:\n\u001b[0;32m     72\u001b[0m     \u001b[39mdel\u001b[39;00m filtered_tb\n",
      "File \u001b[1;32m~\\AppData\\Local\\Temp\\__autograph_generated_filed3p9x4mx.py:15\u001b[0m, in \u001b[0;36mouter_factory.<locals>.inner_factory.<locals>.tf__train_function\u001b[1;34m(iterator)\u001b[0m\n\u001b[0;32m     13\u001b[0m \u001b[39mtry\u001b[39;00m:\n\u001b[0;32m     14\u001b[0m     do_return \u001b[39m=\u001b[39m \u001b[39mTrue\u001b[39;00m\n\u001b[1;32m---> 15\u001b[0m     retval_ \u001b[39m=\u001b[39m ag__\u001b[39m.\u001b[39mconverted_call(ag__\u001b[39m.\u001b[39mld(step_function), (ag__\u001b[39m.\u001b[39mld(\u001b[39mself\u001b[39m), ag__\u001b[39m.\u001b[39mld(iterator)), \u001b[39mNone\u001b[39;00m, fscope)\n\u001b[0;32m     16\u001b[0m \u001b[39mexcept\u001b[39;00m:\n\u001b[0;32m     17\u001b[0m     do_return \u001b[39m=\u001b[39m \u001b[39mFalse\u001b[39;00m\n",
      "\u001b[1;31mValueError\u001b[0m: in user code:\n\n    File \"c:\\Users\\fox39\\anaconda3\\envs\\pangdachu\\lib\\site-packages\\keras\\engine\\training.py\", line 1284, in train_function  *\n        return step_function(self, iterator)\n    File \"c:\\Users\\fox39\\anaconda3\\envs\\pangdachu\\lib\\site-packages\\keras\\engine\\training.py\", line 1268, in step_function  **\n        outputs = model.distribute_strategy.run(run_step, args=(data,))\n    File \"c:\\Users\\fox39\\anaconda3\\envs\\pangdachu\\lib\\site-packages\\keras\\engine\\training.py\", line 1249, in run_step  **\n        outputs = model.train_step(data)\n    File \"c:\\Users\\fox39\\anaconda3\\envs\\pangdachu\\lib\\site-packages\\keras\\engine\\training.py\", line 1051, in train_step\n        loss = self.compute_loss(x, y, y_pred, sample_weight)\n    File \"c:\\Users\\fox39\\anaconda3\\envs\\pangdachu\\lib\\site-packages\\keras\\engine\\training.py\", line 1109, in compute_loss\n        return self.compiled_loss(\n    File \"c:\\Users\\fox39\\anaconda3\\envs\\pangdachu\\lib\\site-packages\\keras\\engine\\compile_utils.py\", line 240, in __call__\n        self.build(y_pred)\n    File \"c:\\Users\\fox39\\anaconda3\\envs\\pangdachu\\lib\\site-packages\\keras\\engine\\compile_utils.py\", line 182, in build\n        self._losses = tf.nest.map_structure(\n    File \"c:\\Users\\fox39\\anaconda3\\envs\\pangdachu\\lib\\site-packages\\keras\\engine\\compile_utils.py\", line 353, in _get_loss_object\n        loss = losses_mod.get(loss)\n    File \"c:\\Users\\fox39\\anaconda3\\envs\\pangdachu\\lib\\site-packages\\keras\\losses.py\", line 2653, in get\n        return deserialize(identifier, use_legacy_format=use_legacy_format)\n    File \"c:\\Users\\fox39\\anaconda3\\envs\\pangdachu\\lib\\site-packages\\keras\\losses.py\", line 2600, in deserialize\n        return legacy_serialization.deserialize_keras_object(\n    File \"c:\\Users\\fox39\\anaconda3\\envs\\pangdachu\\lib\\site-packages\\keras\\saving\\legacy\\serialization.py\", line 543, in deserialize_keras_object\n        raise ValueError(\n\n    ValueError: Unknown loss function: 'sparese_categorical_crossentropy'. Please ensure you are using a `keras.utils.custom_object_scope` and that this object is included in the scope. See https://www.tensorflow.org/guide/keras/save_and_serialize#registering_the_custom_object for details.\n"
     ]
    }
   ],
   "source": [
    "model.fit( x_train, y_train, batch_size=32 ,\n",
    "           validation_data = (x_test, y_test), \n",
    "           epochs = 20, callbacks=callbacks, verbose=2, shuffle=True)"
   ]
  },
  {
   "cell_type": "code",
   "execution_count": null,
   "metadata": {},
   "outputs": [],
   "source": []
  }
 ],
 "metadata": {
  "kernelspec": {
   "display_name": "pang_gpu",
   "language": "python",
   "name": "pangda_gpu"
  },
  "language_info": {
   "codemirror_mode": {
    "name": "ipython",
    "version": 3
   },
   "file_extension": ".py",
   "mimetype": "text/x-python",
   "name": "python",
   "nbconvert_exporter": "python",
   "pygments_lexer": "ipython3",
   "version": "3.9.13"
  },
  "orig_nbformat": 4
 },
 "nbformat": 4,
 "nbformat_minor": 2
}
